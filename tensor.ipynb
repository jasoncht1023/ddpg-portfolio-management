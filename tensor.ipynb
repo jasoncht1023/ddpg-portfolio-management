{
 "cells": [
  {
   "cell_type": "code",
   "execution_count": 23,
   "metadata": {},
   "outputs": [],
   "source": [
    "import pandas as pd\n",
    "import yfinance as yf\n",
    "import numpy as np\n",
    "from datetime import datetime, timedelta"
   ]
  },
  {
   "cell_type": "markdown",
   "metadata": {},
   "source": [
    "# Data"
   ]
  },
  {
   "cell_type": "code",
   "execution_count": null,
   "metadata": {},
   "outputs": [],
   "source": [
    "tickers = [\n",
    "    \"FUTU\",\n",
    "    \"NVDA\",\n",
    "    \"ASTS\",\n",
    "    \"TMF\",\n",
    "    \"LABU\",\n",
    "    \"GDXU\",\n",
    "    \"TSLA\",\n",
    "]\n",
    "len(tickers)"
   ]
  },
  {
   "cell_type": "code",
   "execution_count": 25,
   "metadata": {},
   "outputs": [],
   "source": [
    "start_date = \"2024-01-01\"\n",
    "end_date = \"2024-11-11\""
   ]
  },
  {
   "cell_type": "code",
   "execution_count": null,
   "metadata": {},
   "outputs": [],
   "source": [
    "compute_date = datetime.strptime(start_date, '%Y-%m-%d') - timedelta(days=50)\n",
    "compute_date = compute_date.strftime('%Y-%m-%d')\n",
    "compute_date"
   ]
  },
  {
   "cell_type": "code",
   "execution_count": null,
   "metadata": {},
   "outputs": [],
   "source": [
    "data = yf.download(tickers, start=compute_date, end=end_date, group_by='ticker')\n",
    "\n",
    "if len(tickers) == 1:\n",
    "    # Create a MultiIndex for the columns\n",
    "    multi_index_columns = pd.MultiIndex.from_tuples([(tickers[0], col) for col in data.columns])\n",
    "\n",
    "    # Assign the new MultiIndex to the DataFrame\n",
    "    data.columns = multi_index_columns"
   ]
  },
  {
   "cell_type": "code",
   "execution_count": null,
   "metadata": {},
   "outputs": [],
   "source": [
    "data"
   ]
  },
  {
   "cell_type": "code",
   "execution_count": 29,
   "metadata": {},
   "outputs": [],
   "source": [
    "returns_list = []\n",
    "\n",
    "# Loop through each stock ticker and calculate returns\n",
    "for stock in tickers:\n",
    "    # Access the 'Adj Close' prices using xs method\n",
    "    adjusted_close = data[stock]['Adj Close']\n",
    "    \n",
    "    # Calculate percentage change\n",
    "    returns_series = adjusted_close.pct_change()\n",
    "    \n",
    "    # Append the Series to the list\n",
    "    returns_list.append(returns_series.rename(stock))  # Rename for clarity\n",
    "\n",
    "# Concatenate all return Series into a single DataFrame\n",
    "returns = pd.concat(returns_list, axis=1)"
   ]
  },
  {
   "cell_type": "code",
   "execution_count": 30,
   "metadata": {},
   "outputs": [],
   "source": [
    "returns.reset_index(inplace=True)\n",
    "start_index = returns[returns['Date'] >= start_date].index[0]\n",
    "returns = returns[start_index-27:].set_index('Date')"
   ]
  },
  {
   "cell_type": "code",
   "execution_count": 31,
   "metadata": {},
   "outputs": [],
   "source": [
    "dates = returns.index"
   ]
  },
  {
   "cell_type": "code",
   "execution_count": 32,
   "metadata": {},
   "outputs": [],
   "source": [
    "adj_close = data.xs(\"Adj Close\", level=1, axis=1)\n",
    "adj_close = adj_close.reindex(columns=returns.columns)"
   ]
  },
  {
   "cell_type": "code",
   "execution_count": 33,
   "metadata": {},
   "outputs": [],
   "source": [
    "columns = pd.MultiIndex.from_product([tickers, ['Adj Close', 'Returns', \"MA\", \"RSI\", \"RSI2\", \"EMA_12\", \"EMA_26\", \"MACD\"]])\n",
    "df = pd.DataFrame(index=dates, columns=columns)\n",
    "df.columns = columns\n",
    "for stock in tickers:\n",
    "    df[(stock, \"Adj Close\")] = adj_close[stock]\n",
    "    df[(stock, \"Returns\")] = returns[stock]\n",
    "df = df.reset_index()"
   ]
  },
  {
   "cell_type": "code",
   "execution_count": null,
   "metadata": {},
   "outputs": [],
   "source": [
    "df"
   ]
  },
  {
   "cell_type": "markdown",
   "metadata": {},
   "source": [
    "# Indicators"
   ]
  },
  {
   "cell_type": "code",
   "execution_count": 35,
   "metadata": {},
   "outputs": [],
   "source": [
    "def EMA(w, price, last):\n",
    "    a = 2/(1+w)\n",
    "    return a*price + (1-a)*last\n",
    "def MA(prices):\n",
    "    return sum(prices) / 28\n",
    "def MACD(long, short):\n",
    "    return sum(long) - sum(short)\n",
    "def RSI(returns):\n",
    "    avg_gain = returns[returns > 0].mean()\n",
    "    avg_loss = -returns[returns < 0].mean()\n",
    "    return 100 * (1 - 1/(1+avg_gain/avg_loss)) if avg_loss != 0 else 100\n",
    "def RSI2(diff):\n",
    "    avg_gain = diff[diff > 0].mean()\n",
    "    avg_loss = -diff[diff < 0].mean()\n",
    "    return 100 * (1 - 1/(1+avg_gain/avg_loss)) if avg_loss != 0 else 100"
   ]
  },
  {
   "cell_type": "code",
   "execution_count": 36,
   "metadata": {},
   "outputs": [],
   "source": [
    "for stock in tickers:\n",
    "    df[(stock, \"MA\")] = df[(stock, \"Adj Close\")].rolling(window=28).apply(MA)\n",
    "    df[(stock, \"Diff\")] = df[(stock, \"Adj Close\")].diff()\n",
    "\n",
    "    df.loc[0, (stock, \"EMA_12\")] = df.loc[0, (stock, \"Adj Close\")]\n",
    "    df.loc[0, (stock, \"EMA_26\")] = df.loc[0, (stock, \"Adj Close\")]\n",
    "    for i in range(1, len(df)):\n",
    "        df.loc[i, (stock, \"EMA_12\")] = EMA(12, df.loc[i, (stock, \"Adj Close\")], df.loc[i-1, (stock, \"EMA_12\")])\n",
    "        df.loc[i, (stock, \"EMA_26\")] = EMA(26, df.loc[i, (stock, \"Adj Close\")], df.loc[i-1, (stock, \"EMA_26\")])\n",
    "\n",
    "    df[(stock, \"MACD\")] = df[(stock, \"EMA_26\")].rolling(window=9).sum() - df[(stock, \"EMA_12\")].rolling(window=9).sum()\n",
    "    df[(stock, \"RSI\")] = df[(stock, \"Returns\")].rolling(14).apply(RSI)\n",
    "    df[(stock, \"RSI2\")] = df[(stock, \"Diff\")].diff().rolling(14).apply(RSI2)"
   ]
  },
  {
   "cell_type": "markdown",
   "metadata": {},
   "source": [
    "# Tensor"
   ]
  },
  {
   "cell_type": "code",
   "execution_count": null,
   "metadata": {},
   "outputs": [],
   "source": [
    "close_data = df[27:len(df) - (len(df)-27)%10]\n",
    "close_data = close_data.reset_index(drop=True)\n",
    "to_drop = [\"EMA_12\", \"EMA_26\", \"Returns\", \"Diff\"]\n",
    "close_data = close_data.drop(columns=[(stock, label) for stock in tickers for label in to_drop])\n",
    "close_data"
   ]
  },
  {
   "cell_type": "code",
   "execution_count": 38,
   "metadata": {},
   "outputs": [],
   "source": [
    "from collections import defaultdict\n",
    "\n",
    "F = defaultdict(dict) # 4 * n * (m * n)\n",
    "n = len(tickers)\n",
    "m = 10\n",
    "T = len(close_data) // m"
   ]
  },
  {
   "cell_type": "code",
   "execution_count": 39,
   "metadata": {},
   "outputs": [],
   "source": [
    "corr = [{} for _ in range(T)]\n",
    "indicators = [\"Adj Close\", \"MA\", \"RSI\", \"MACD\"]\n",
    "for t in range(0, T): # t\n",
    "    V = close_data[t*m:(t+1)*m] # m days closing data\n",
    "    for indicator in indicators: # the 4 dimensions\n",
    "        corr[t][indicator] = V.filter([(stock, indicator) for stock in tickers], axis=1).corr()\n",
    "        for stock in tickers: # n assets\n",
    "            F[t][(stock, indicator)] = V[(stock, indicator)].values.reshape(m,1).dot(corr[t][indicator][(stock, indicator)].values.reshape(1,n)) # m * n tensor for indicator i & stock n"
   ]
  },
  {
   "cell_type": "code",
   "execution_count": null,
   "metadata": {},
   "outputs": [],
   "source": [
    "F[0][(\"FUTU\", \"MACD\")].shape"
   ]
  },
  {
   "cell_type": "markdown",
   "metadata": {},
   "source": [
    "# CONV3D"
   ]
  },
  {
   "cell_type": "code",
   "execution_count": 41,
   "metadata": {},
   "outputs": [],
   "source": [
    "import torch\n",
    "import torch.nn as nn"
   ]
  },
  {
   "cell_type": "code",
   "execution_count": null,
   "metadata": {},
   "outputs": [],
   "source": [
    "f = []\n",
    "for t in range(0, T):\n",
    "    f.append([])\n",
    "    for indicator in indicators:\n",
    "        a = []\n",
    "        for stock in tickers:\n",
    "            a.append(F[t][(stock, indicator)])\n",
    "        f[-1].append(a)\n",
    "f = list(map(torch.Tensor, np.array(f)))\n",
    "f[0].shape"
   ]
  },
  {
   "cell_type": "code",
   "execution_count": 43,
   "metadata": {},
   "outputs": [],
   "source": [
    "# Define the 3D Convolutional Neural Network layer\n",
    "class Conv3DNet(nn.Module):\n",
    "    def __init__(self):\n",
    "        super(Conv3DNet, self).__init__()\n",
    "        self.conv3d = nn.Conv3d(in_channels=4, out_channels=32, kernel_size=(1, 3, 1))\n",
    "        self.relu = nn.ReLU()\n",
    "\n",
    "    def forward(self, x):\n",
    "        x = self.conv3d(x)\n",
    "        x = self.relu(x)\n",
    "        return x"
   ]
  },
  {
   "cell_type": "code",
   "execution_count": null,
   "metadata": {},
   "outputs": [],
   "source": [
    "# Instantiate the network\n",
    "net = Conv3DNet()\n",
    "\n",
    "# Pass the input tensor f[t] through the network\n",
    "F_prime = []\n",
    "for t in range(0, T):\n",
    "    F_prime.append(net(f[t]))\n",
    "\n",
    "# Don't know why the shape is 32 * n * (m-2) * n here but the paper says 32 * n * (m-4) * n\n",
    "'''Kernel size 1,3,1 should be m-2?'''\n",
    "F_prime[0].shape"
   ]
  }
 ],
 "metadata": {
  "kernelspec": {
   "display_name": ".venv",
   "language": "python",
   "name": "python3"
  },
  "language_info": {
   "codemirror_mode": {
    "name": "ipython",
    "version": 3
   },
   "file_extension": ".py",
   "mimetype": "text/x-python",
   "name": "python",
   "nbconvert_exporter": "python",
   "pygments_lexer": "ipython3",
   "version": "3.11.2"
  }
 },
 "nbformat": 4,
 "nbformat_minor": 2
}
